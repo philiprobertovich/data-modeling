{
 "cells": [
  {
   "cell_type": "code",
   "execution_count": 1,
   "metadata": {},
   "outputs": [
    {
     "name": "stdout",
     "output_type": "stream",
     "text": [
      "[DEBUG][2023-01-16 08:29:09,167][3941486437:0076] : Creating bigquery client\n",
      "[INFO ][2023-01-16 08:29:09,234][3941486437:0079] : Setup Completed\n"
     ]
    }
   ],
   "source": [
    "import os\n",
    "import sys\n",
    "import pandas as pd\n",
    "import logging\n",
    "from google.cloud import bigquery\n",
    "from hashlib import md5\n",
    "from typing import List\n",
    "\n",
    "# SETUP\n",
    "\n",
    "# change to match your filesystem\n",
    "DATA_DIR = \"data/air_travel/\"\n",
    "DEFAULT_TICKETS_FILE = os.path.join(DATA_DIR, \"tickets.json\") \n",
    "PROJECT_NAME = \"deb-01-372120\"\n",
    "DATASET_NAME = \"air_travel\"\n",
    "\n",
    "\n",
    "# **** TABLE SCHEMAS ****\n",
    "\n",
    "TABLE_METADATA = {\n",
    "    'airlines': {\n",
    "        'table_name': 'airlines',\n",
    "        'schema': [\n",
    "            bigquery.SchemaField('name', 'string', mode='REQUIRED'),\n",
    "            bigquery.SchemaField('iata', 'string', mode='REQUIRED'),\n",
    "            bigquery.SchemaField('icao', 'string', mode='REQUIRED'),\n",
    "            bigquery.SchemaField('callsign', 'string', mode='REQUIRED'),\n",
    "            bigquery.SchemaField('country', 'string', mode='REQUIRED')\n",
    "        ]\n",
    "    },\n",
    "    'airports': {\n",
    "        'table_name': 'airports',\n",
    "        'schema': [\n",
    "            bigquery.SchemaField('name', 'string', mode='REQUIRED'),\n",
    "            bigquery.SchemaField('city', 'string', mode='REQUIRED'),\n",
    "            bigquery.SchemaField('country', 'string', mode='REQUIRED'),\n",
    "            bigquery.SchemaField('icao', 'string', mode='REQUIRED'),\n",
    "            bigquery.SchemaField('lattitude', 'int64', mode='REQUIRED'),\n",
    "            bigquery.SchemaField('longitude', 'int64', mode='REQUIRED'),\n",
    "            bigquery.SchemaField('altitude', 'int64', mode='REQUIRED'),\n",
    "            bigquery.SchemaField('tz_timezone', 'string', mode='REQUIRED')\n",
    "        ]\n",
    "    },\n",
    "    'passengers': {\n",
    "        'table_name': 'passengers',\n",
    "        'schema': [\n",
    "            bigquery.SchemaField('record_id', 'string', mode='REQUIRED'),\n",
    "            bigquery.SchemaField('first_name', 'string', mode='REQUIRED'),\n",
    "            bigquery.SchemaField('last_name', 'string', mode='REQUIRED'),\n",
    "            bigquery.SchemaField('gender', 'string', mode='REQUIRED'),\n",
    "            bigquery.SchemaField('birth_date', 'datetime', mode='REQUIRED'),\n",
    "            bigquery.SchemaField('email', 'string', mode='REQUIRED'),\n",
    "            bigquery.SchemaField('street','string', mode='REQUIRED'),\n",
    "            bigquery.SchemaField('city', 'string', mode='REQUIRED'),\n",
    "            bigquery.SchemaField('state', 'string', mode='REQUIRED'),\n",
    "            bigquery.SchemaField('zip', 'string', mode='REQUIRED'),\n",
    "            bigquery.SchemaField('start_date', 'datetime', mode='REQUIRED'),\n",
    "            bigquery.SchemaField('end_date', 'datetime', mode='REQUIRED')\n",
    "        ]\n",
    "    }\n",
    "}\n",
    "\n",
    "\n",
    "# **** SETUP LOGGING ****\n",
    "# setup logging and logger\n",
    "logging.basicConfig(            # setting up the root logger\n",
    "    format='[%(levelname)-5s][%(asctime)s][%(module)s:%(lineno)04d] : %(message)s',\n",
    "    level=logging.INFO,\n",
    "    stream=sys.stdout\n",
    ")\n",
    "logger: logging.Logger = logging.getLogger('root')      # alias the root logger as `logger`\n",
    "logger.setLevel(logging.DEBUG)                          # programmatically reassign the logging level\n",
    "\n",
    "\n",
    "# **** BIGQUERY CLIENT ****\n",
    "logger.debug(f\"Creating bigquery client\")\n",
    "client = bigquery.Client()\n",
    "\n",
    "logger.info(f\"Setup Completed\")\n"
   ]
  },
  {
   "cell_type": "code",
   "execution_count": null,
   "metadata": {},
   "outputs": [],
   "source": []
  }
 ],
 "metadata": {
  "kernelspec": {
   "display_name": "venv",
   "language": "python",
   "name": "python3"
  },
  "language_info": {
   "codemirror_mode": {
    "name": "ipython",
    "version": 3
   },
   "file_extension": ".py",
   "mimetype": "text/x-python",
   "name": "python",
   "nbconvert_exporter": "python",
   "pygments_lexer": "ipython3",
   "version": "3.7.15"
  },
  "orig_nbformat": 4,
  "vscode": {
   "interpreter": {
    "hash": "21e19b281057cad7498b24eadb68a545496a65b8f02ababc515475b1ffd0d6a5"
   }
  }
 },
 "nbformat": 4,
 "nbformat_minor": 2
}
